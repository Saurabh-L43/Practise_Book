{
 "cells": [
  {
   "cell_type": "markdown",
   "id": "ef9efbf4",
   "metadata": {},
   "source": [
    "# String\n"
   ]
  },
  {
   "cell_type": "code",
   "execution_count": null,
   "id": "b2095cbf",
   "metadata": {},
   "outputs": [],
   "source": [
    "#1# take name as input and say hello\n",
    "name = input(\" \")\n",
    "print(\"Hello {} !\".format(name))"
   ]
  },
  {
   "cell_type": "code",
   "execution_count": 15,
   "id": "cb378a63",
   "metadata": {},
   "outputs": [
    {
     "name": "stdout",
     "output_type": "stream",
     "text": [
      "2\n"
     ]
    }
   ],
   "source": [
    "# 2. From below string print count of \"Is\".\n",
    "string = \"He is Amol and she is Chaitali\"\n",
    "print(string.count(\"is\"))"
   ]
  },
  {
   "cell_type": "code",
   "execution_count": 16,
   "id": "796dedd6",
   "metadata": {},
   "outputs": [
    {
     "name": "stdout",
     "output_type": "stream",
     "text": [
      "['Data', 'is', 'new', 'oil']\n"
     ]
    }
   ],
   "source": [
    "# 3. from below string split the words by space\n",
    "string1 = \"Data is new oil\"\n",
    "print(string1.split(\" \"))"
   ]
  },
  {
   "cell_type": "code",
   "execution_count": 8,
   "id": "893fa870",
   "metadata": {},
   "outputs": [
    {
     "name": "stdout",
     "output_type": "stream",
     "text": [
      "Data=is=new=oil\n"
     ]
    }
   ],
   "source": [
    "# 4. now from below list, join all words by \"=\" and create a sentence.\n",
    "list_1 = [\"Data\", \"is\", \"new\", \"oil\"]\n",
    "joined_list = \"=\".join(list_1)\n",
    "print(joined_list)"
   ]
  },
  {
   "cell_type": "code",
   "execution_count": 9,
   "id": "0d9e90d5",
   "metadata": {},
   "outputs": [
    {
     "name": "stdout",
     "output_type": "stream",
     "text": [
      "I love programming in Python.\n"
     ]
    }
   ],
   "source": [
    "# 5. from below string replace \"Java\" with \"Python\"\n",
    "sentence = \"I love programming in Java.\"\n",
    "new_sent = sentence.replace(\"Java\", \"Python\")\n",
    "print(new_sent)"
   ]
  },
  {
   "cell_type": "code",
   "execution_count": 10,
   "id": "d84907c4",
   "metadata": {},
   "outputs": [
    {
     "name": "stdout",
     "output_type": "stream",
     "text": [
      "This is a message with spaces.\n"
     ]
    }
   ],
   "source": [
    "# 6. from below string remove(strip) additional spaces and print it\n",
    "message = \"   This is a message with spaces.   \"\n",
    "new_msg = message.strip(\" \")\n",
    "print(new_msg)"
   ]
  },
  {
   "cell_type": "code",
   "execution_count": 11,
   "id": "54dbdd3d",
   "metadata": {},
   "outputs": [
    {
     "name": "stdout",
     "output_type": "stream",
     "text": [
      "10\n"
     ]
    }
   ],
   "source": [
    "#7. From below string find postion(start index) of \"sample\"\n",
    "sentence = \"This is a sample sentence.\"\n",
    "position = sentence.index(\"sample\")\n",
    "print(position)"
   ]
  },
  {
   "cell_type": "code",
   "execution_count": 12,
   "id": "1611c5b2",
   "metadata": {},
   "outputs": [
    {
     "name": "stdout",
     "output_type": "stream",
     "text": [
      "14\n"
     ]
    }
   ],
   "source": [
    "#8. Given the string \"Python is fun!\", how can you calculate and print its length?\n",
    "text = \"Python is fun!\"\n",
    "print(len(text))"
   ]
  },
  {
   "cell_type": "code",
   "execution_count": 13,
   "id": "d55511ee",
   "metadata": {},
   "outputs": [
    {
     "name": "stdout",
     "output_type": "stream",
     "text": [
      "elppaeniP\n"
     ]
    }
   ],
   "source": [
    "#9. Print below string in reverse order\n",
    "string = \"Pineapple\"\n",
    "print(string[::-1])"
   ]
  },
  {
   "cell_type": "code",
   "execution_count": 16,
   "id": "14f81cee",
   "metadata": {},
   "outputs": [
    {
     "name": "stdout",
     "output_type": "stream",
     "text": [
      "Welcome To Python Programming.\n"
     ]
    }
   ],
   "source": [
    "#10. Given the string \"Welcome to Python Programming.\", how can you capitalize the first letter of each word and print the modified string?\n",
    "text = \"welcome to python programming.\"\n",
    "modified_text = text.title()\n",
    "print(modified_text)"
   ]
  },
  {
   "cell_type": "code",
   "execution_count": 17,
   "id": "356d17d2",
   "metadata": {},
   "outputs": [
    {
     "name": "stdout",
     "output_type": "stream",
     "text": [
      "DATA IS NEW OIL\n"
     ]
    }
   ],
   "source": [
    "#11. Convert all letter of string to Upper Case\n",
    "text = \"Data is new oil\"\n",
    "print(text.upper())"
   ]
  },
  {
   "cell_type": "code",
   "execution_count": 19,
   "id": "69e16b6d",
   "metadata": {},
   "outputs": [
    {
     "name": "stdout",
     "output_type": "stream",
     "text": [
      "I Am Learning Python\n"
     ]
    }
   ],
   "source": [
    "#12. From below string just convert first lettter of string to upper case\n",
    "text = \"i am learning python\"\n",
    "print(text.title())"
   ]
  },
  {
   "cell_type": "code",
   "execution_count": 20,
   "id": "32446642",
   "metadata": {},
   "outputs": [
    {
     "name": "stdout",
     "output_type": "stream",
     "text": [
      "dAta IS nEw Oil\n"
     ]
    }
   ],
   "source": [
    "#13. Convert all uppper case to lower and lower case to upper\n",
    "text = \"DaTA is NeW oIL\"\n",
    "print(text.swapcase())"
   ]
  },
  {
   "cell_type": "code",
   "execution_count": 24,
   "id": "a93c27a9",
   "metadata": {},
   "outputs": [
    {
     "name": "stdout",
     "output_type": "stream",
     "text": [
      "50\n"
     ]
    }
   ],
   "source": [
    "#14. print the addition of below 2 numbers\n",
    "a = 20\n",
    "b = 30\n",
    "c=a+b\n",
    "print(c)"
   ]
  },
  {
   "cell_type": "code",
   "execution_count": 22,
   "id": "faaa1d79",
   "metadata": {},
   "outputs": [
    {
     "name": "stdout",
     "output_type": "stream",
     "text": [
      "2030\n"
     ]
    }
   ],
   "source": [
    "#15. print the additiono of below 2 strings\n",
    "a = \"20\"\n",
    "b = \"30\"\n",
    "c = a+b\n",
    "print(c)"
   ]
  },
  {
   "cell_type": "markdown",
   "id": "e4d7803c",
   "metadata": {},
   "source": [
    "# List"
   ]
  },
  {
   "cell_type": "code",
   "execution_count": 4,
   "id": "d87b8e3b",
   "metadata": {},
   "outputs": [
    {
     "name": "stdout",
     "output_type": "stream",
     "text": [
      "[1, 2, 3, 44, 5]\n"
     ]
    }
   ],
   "source": [
    "## 16. From below list replace 4 with 44\n",
    "my_list = [1, 2, 3, 4, 5]\n",
    "my_list[3]=44\n",
    "print(my_list)\n"
   ]
  },
  {
   "cell_type": "code",
   "execution_count": 10,
   "id": "e7d1028f",
   "metadata": {},
   "outputs": [
    {
     "name": "stdout",
     "output_type": "stream",
     "text": [
      "[1, 2, 3, 200, 4, 5]\n"
     ]
    }
   ],
   "source": [
    "## 17. In below list add(insert) 200 at index 3\n",
    "my_list = [1, 2, 3, 4, 5]\n",
    "my_list.insert(3,200)\n",
    "print(my_list)\n"
   ]
  },
  {
   "cell_type": "code",
   "execution_count": 12,
   "id": "2b3e260b",
   "metadata": {},
   "outputs": [
    {
     "name": "stdout",
     "output_type": "stream",
     "text": [
      "[1, 2, 3, 4, 5, 66]\n"
     ]
    }
   ],
   "source": [
    "## 18. In below list add new number 66\n",
    "my_list = [1, 2, 3, 4, 5]\n",
    "my_list.append(66)\n",
    "print(my_list)\n"
   ]
  },
  {
   "cell_type": "code",
   "execution_count": 13,
   "id": "186e1238",
   "metadata": {},
   "outputs": [
    {
     "name": "stdout",
     "output_type": "stream",
     "text": [
      "[1, 2, 3, 4, 5, 66, 87, 99]\n"
     ]
    }
   ],
   "source": [
    "## 19 In below list insert new numbers 66,87,99\n",
    "my_list = [1, 2, 3, 4, 5]\n",
    "my_list.extend([66,87,99])\n",
    "print(my_list)\n"
   ]
  },
  {
   "cell_type": "code",
   "execution_count": 16,
   "id": "2cdef3de",
   "metadata": {},
   "outputs": [
    {
     "name": "stdout",
     "output_type": "stream",
     "text": [
      "[1, 2, 4, 5]\n"
     ]
    }
   ],
   "source": [
    "## 20. from below list remove number 3\n",
    "my_list = [1, 2, 3, 4, 5]\n",
    "my_list.pop(2)\n",
    "print(my_list)"
   ]
  },
  {
   "cell_type": "code",
   "execution_count": 17,
   "id": "195dd618",
   "metadata": {},
   "outputs": [
    {
     "name": "stdout",
     "output_type": "stream",
     "text": [
      "2\n"
     ]
    }
   ],
   "source": [
    "## 21. From below list print count of \"cherry\"\n",
    "my_list = [1, 2.5, \"cherry\", 3, \"banana\", 4.0, \"cherry\"]\n",
    "print(my_list.count(\"cherry\"))"
   ]
  },
  {
   "cell_type": "code",
   "execution_count": 18,
   "id": "b811551b",
   "metadata": {},
   "outputs": [
    {
     "name": "stdout",
     "output_type": "stream",
     "text": [
      "4\n"
     ]
    }
   ],
   "source": [
    "## 22. From below list print index of \"banana\"\n",
    "my_list = [1, 2.5, \"apple\", 3, \"banana\", 4.0, \"cherry\"]\n",
    "print(my_list.index(\"banana\"))"
   ]
  },
  {
   "cell_type": "code",
   "execution_count": 23,
   "id": "ef38e8a1",
   "metadata": {},
   "outputs": [
    {
     "name": "stdout",
     "output_type": "stream",
     "text": [
      "['Pune', 'Delhi', 'Mumbai', 'Indore', 'Jaipur']\n"
     ]
    }
   ],
   "source": [
    "## 23. From below list remove last item\n",
    "my_list = [\"Pune\",\"Delhi\",\"Mumbai\",\"Indore\",\"Jaipur\",\"Dehradun\"]\n",
    "my_list.pop()\n",
    "print(my_list)"
   ]
  },
  {
   "cell_type": "code",
   "execution_count": 20,
   "id": "9d5b9497",
   "metadata": {},
   "outputs": [
    {
     "name": "stdout",
     "output_type": "stream",
     "text": [
      "['Apple', 'Banana', 'Cherry', 'Grapes', 'Mango']\n"
     ]
    }
   ],
   "source": [
    "## 24. Sort the below list in Alphabetical order\n",
    "my_list = [\"Grapes\",\"Apple\",\"Cherry\",\"Mango\",\"Banana\"]\n",
    "my_list.sort()\n",
    "print(my_list)"
   ]
  },
  {
   "cell_type": "code",
   "execution_count": 21,
   "id": "a68895b1",
   "metadata": {},
   "outputs": [
    {
     "name": "stdout",
     "output_type": "stream",
     "text": [
      "['Mango', 'Grapes', 'Cherry', 'Banana', 'Apple']\n"
     ]
    }
   ],
   "source": [
    "## 25. Sort below list in reverse Alphabetical order\n",
    "my_list = [\"Grapes\",\"Apple\",\"Cherry\",\"Mango\",\"Banana\"]\n",
    "my_list.sort(reverse=True)\n",
    "print(my_list)"
   ]
  },
  {
   "cell_type": "code",
   "execution_count": 1,
   "id": "32ebe204",
   "metadata": {},
   "outputs": [
    {
     "data": {
      "text/plain": [
       "26.0"
      ]
     },
     "execution_count": 1,
     "metadata": {},
     "output_type": "execute_result"
    }
   ],
   "source": [
    "# 26. Create a list named mylist which has 3 elements- integer 3, 'element number two', '['last','element']'\n",
    "mylist = [3, 'element number two', ['last', 'element']]"
   ]
  },
  {
   "cell_type": "code",
   "execution_count": null,
   "id": "5e206b89",
   "metadata": {},
   "outputs": [],
   "source": [
    "# 27.Print the third element from the list.\n",
    "l = [1,2,3,4,5,6,7,8,9]\n",
    "print(l[2])"
   ]
  },
  {
   "cell_type": "code",
   "execution_count": null,
   "id": "42e6b1a4",
   "metadata": {},
   "outputs": [],
   "source": [
    "# 28. Replace the word 'sixteen' by integer 16.\n",
    "ListToModify=['a','b','sixteen']\n",
    "ListToModify[-1]= 16\n",
    "print(ListToModify)"
   ]
  },
  {
   "cell_type": "code",
   "execution_count": null,
   "id": "22f1721b",
   "metadata": {},
   "outputs": [],
   "source": [
    "# 29.Find the length of the given list.\n",
    "ListToFIndLength=['this','is','the','list','whose','length','I','want']\n",
    "print(len(ListToFIndLength))"
   ]
  },
  {
   "cell_type": "code",
   "execution_count": 2,
   "id": "d010ae49",
   "metadata": {},
   "outputs": [
    {
     "data": {
      "text/plain": [
       "3622"
      ]
     },
     "execution_count": 2,
     "metadata": {},
     "output_type": "execute_result"
    }
   ],
   "source": [
    "# 30.Print sum of the numbers given in the list.\n",
    "intlist=[54,678,2890]\n",
    "sum(intlist)"
   ]
  },
  {
   "cell_type": "code",
   "execution_count": 3,
   "id": "36d0cda9",
   "metadata": {},
   "outputs": [
    {
     "data": {
      "text/plain": [
       "53245"
      ]
     },
     "execution_count": 3,
     "metadata": {},
     "output_type": "execute_result"
    }
   ],
   "source": [
    "# 31.Print Maximum number out of the given list.\n",
    "MaxList=[677,53245,234,236,23456,345,23526,3454]\n",
    "max(MaxList)"
   ]
  },
  {
   "cell_type": "code",
   "execution_count": null,
   "id": "0cb30c3e",
   "metadata": {},
   "outputs": [],
   "source": [
    "# 32.Print minimum number out of the given list.\n",
    "MinList=[351,984,1697,284,134,467,164]\n",
    "min(MinList)"
   ]
  },
  {
   "cell_type": "code",
   "execution_count": null,
   "id": "f3eb3f66",
   "metadata": {},
   "outputs": [],
   "source": [
    "# 33.Append 'append me!' in the given list.\n",
    "ListToAppend=[1,2,3]\n",
    "ListToAppend.append('append me!')\n",
    "print(ListToAppend)"
   ]
  },
  {
   "cell_type": "code",
   "execution_count": 7,
   "id": "8a523b90",
   "metadata": {},
   "outputs": [
    {
     "name": "stdout",
     "output_type": "stream",
     "text": [
      "0\n",
      "1\n",
      "2\n",
      "3\n",
      "4\n",
      "5\n",
      "6\n",
      "7\n",
      "8\n",
      "9\n",
      "10\n"
     ]
    }
   ],
   "source": [
    "# 34.Print the first 10 natural numbers using for loop.\n",
    "n=11\n",
    "for i in range (0,n):\n",
    " print(i)"
   ]
  },
  {
   "cell_type": "code",
   "execution_count": 15,
   "id": "b8071ce9",
   "metadata": {},
   "outputs": [
    {
     "name": "stdout",
     "output_type": "stream",
     "text": [
      "0\n",
      "2\n",
      "4\n",
      "6\n",
      "8\n"
     ]
    }
   ],
   "source": [
    "# 35.Python program to print all the even numbers within the given range.\n",
    "m=10\n",
    "for i in range(0,m):\n",
    " if i%2==0:\n",
    "    print(i)"
   ]
  },
  {
   "cell_type": "code",
   "execution_count": 19,
   "id": "2181d86c",
   "metadata": {},
   "outputs": [
    {
     "name": "stdout",
     "output_type": "stream",
     "text": [
      "66\n"
     ]
    }
   ],
   "source": [
    "# 36.Python program to calculate the sum of all numbers from 1 to a given number.\n",
    "n=11\n",
    "sum=0\n",
    "for i in range(1,n+1):\n",
    "    sum+=i\n",
    "print(sum)\n",
    "    "
   ]
  },
  {
   "cell_type": "code",
   "execution_count": 38,
   "id": "318965cf",
   "metadata": {},
   "outputs": [
    {
     "name": "stdout",
     "output_type": "stream",
     "text": [
      "25\n"
     ]
    }
   ],
   "source": [
    "# 37.Python program to calculate the sum of all the odd numbers within the given range.\n",
    "n=11\n",
    "addition=0\n",
    "for i in range(0,n):\n",
    "    if i%2!=0:\n",
    "        addition+=i\n",
    "print(addition)"
   ]
  },
  {
   "cell_type": "code",
   "execution_count": 45,
   "id": "4282007f",
   "metadata": {},
   "outputs": [
    {
     "name": "stdout",
     "output_type": "stream",
     "text": [
      "8 x 0 = 0\n",
      "8 x 1 = 5\n",
      "8 x 2 = 10\n",
      "8 x 3 = 15\n",
      "8 x 4 = 20\n",
      "8 x 5 = 25\n",
      "8 x 6 = 30\n",
      "8 x 7 = 35\n",
      "8 x 8 = 40\n",
      "8 x 9 = 45\n",
      "8 x 10 = 50\n"
     ]
    }
   ],
   "source": [
    "# 38.Python program to print a multiplication table of a given number.\n",
    "n=8\n",
    "for i in range(11):\n",
    "    print(n,\"x\",i,\"=\",5*i)\n",
    "    "
   ]
  },
  {
   "cell_type": "code",
   "execution_count": 46,
   "id": "5916e92c",
   "metadata": {},
   "outputs": [
    {
     "name": "stdout",
     "output_type": "stream",
     "text": [
      "1\n",
      "2\n",
      "79\n",
      "19\n",
      "63\n"
     ]
    }
   ],
   "source": [
    "# 39.Python program to display numbers from a list using a for loop.\n",
    "list=[1,2,79,19,63]\n",
    "for i in list:\n",
    "    print(i)"
   ]
  },
  {
   "cell_type": "code",
   "execution_count": 51,
   "id": "48bd8311",
   "metadata": {},
   "outputs": [
    {
     "name": "stdout",
     "output_type": "stream",
     "text": [
      "12\n"
     ]
    }
   ],
   "source": [
    "# 40.Python program to count the total number of digits in a number.\n",
    "x=254653215453\n",
    "x=str(x)\n",
    "count=0\n",
    "for i in x:\n",
    "    count+=1\n",
    "print(count)"
   ]
  },
  {
   "cell_type": "code",
   "execution_count": 54,
   "id": "eaf3d831",
   "metadata": {},
   "outputs": [
    {
     "name": "stdout",
     "output_type": "stream",
     "text": [
      "dad is a palindrome.\n"
     ]
    }
   ],
   "source": [
    "# 41.Python program to check if the given string is a palindrome.\n",
    "a=\"dad\"\n",
    "a_reverse=\"\"\n",
    "for i in a:\n",
    "    a_reverse=i+a_reverse\n",
    "if a==a_reverse:\n",
    "    print(a,\"is a palindrome.\")\n",
    "else:\n",
    "    print(a, \"is not a palindrome\")"
   ]
  },
  {
   "cell_type": "code",
   "execution_count": 56,
   "id": "ab149915",
   "metadata": {},
   "outputs": [
    {
     "name": "stdout",
     "output_type": "stream",
     "text": [
      "Sau\n",
      "uaS\n"
     ]
    }
   ],
   "source": [
    "# 42.Python program that accepts a word from the user and reverses it.\n",
    "given_string=input()\n",
    "reverse_string=\"\"\n",
    "for i in given_string:\n",
    "    reverse_string = i + reverse_string\n",
    "print(reverse_string)"
   ]
  },
  {
   "cell_type": "code",
   "execution_count": null,
   "id": "e0aedb3c",
   "metadata": {},
   "outputs": [],
   "source": [
    "# 43.Python program to check if a given number is an Armstrong number.\n",
    "number = int(input(\"Enter the number: \"))\n",
    "number = str(number)\n",
    "sum =0\n",
    "for i in number:\n",
    "    sum += int(i)**len(number)\n",
    "if sum==int(number):\n",
    "    print(\"The given number {} is an Amstrong number\".format(number))\n",
    "else:\n",
    "    print(\"The given number {} is not an Amstrong number\".format(number))"
   ]
  },
  {
   "cell_type": "code",
   "execution_count": 1,
   "id": "a4bd72fd",
   "metadata": {},
   "outputs": [
    {
     "name": "stdout",
     "output_type": "stream",
     "text": [
      "Enter a series of numbers: 1 2 3 4 5 6 7 5 6 9 \n",
      "Number of even numbers: 4\n",
      "Number of odd numbers: 6\n"
     ]
    }
   ],
   "source": [
    "## 44. Python program to count the number of even and odd numbers from a series of numbers.\n",
    "\n",
    "numbers = input(\"Enter a series of numbers: \")\n",
    "\n",
    "numbers_list = [int(num) for num in numbers.split()]\n",
    "\n",
    "even_count = 0\n",
    "odd_count = 0\n",
    "\n",
    "for num in numbers_list:\n",
    "    if num % 2 == 0:\n",
    "        even_count += 1\n",
    "    else:\n",
    "        odd_count += 1\n",
    "\n",
    "print(\"Number of even numbers:\", even_count)\n",
    "print(\"Number of odd numbers:\", odd_count)"
   ]
  },
  {
   "cell_type": "code",
   "execution_count": 2,
   "id": "dd087789",
   "metadata": {},
   "outputs": [
    {
     "name": "stdout",
     "output_type": "stream",
     "text": [
      "enter the start range:123\n",
      "enter the end range: 1230\n",
      "Non-prime numbers between 123 and 1230 are:\n",
      "123\n",
      "124\n",
      "125\n",
      "126\n",
      "128\n",
      "129\n",
      "130\n",
      "132\n",
      "133\n",
      "134\n",
      "135\n",
      "136\n",
      "138\n",
      "140\n",
      "141\n",
      "142\n",
      "143\n",
      "144\n",
      "145\n",
      "146\n",
      "147\n",
      "148\n",
      "150\n",
      "152\n",
      "153\n",
      "154\n",
      "155\n",
      "156\n",
      "158\n",
      "159\n",
      "160\n",
      "161\n",
      "162\n",
      "164\n",
      "165\n",
      "166\n",
      "168\n",
      "169\n",
      "170\n",
      "171\n",
      "172\n",
      "174\n",
      "175\n",
      "176\n",
      "177\n",
      "178\n",
      "180\n",
      "182\n",
      "183\n",
      "184\n",
      "185\n",
      "186\n",
      "187\n",
      "188\n",
      "189\n",
      "190\n",
      "192\n",
      "194\n",
      "195\n",
      "196\n",
      "198\n",
      "200\n",
      "201\n",
      "202\n",
      "203\n",
      "204\n",
      "205\n",
      "206\n",
      "207\n",
      "208\n",
      "209\n",
      "210\n",
      "212\n",
      "213\n",
      "214\n",
      "215\n",
      "216\n",
      "217\n",
      "218\n",
      "219\n",
      "220\n",
      "221\n",
      "222\n",
      "224\n",
      "225\n",
      "226\n",
      "228\n",
      "230\n",
      "231\n",
      "232\n",
      "234\n",
      "235\n",
      "236\n",
      "237\n",
      "238\n",
      "240\n",
      "242\n",
      "243\n",
      "244\n",
      "245\n",
      "246\n",
      "247\n",
      "248\n",
      "249\n",
      "250\n",
      "252\n",
      "253\n",
      "254\n",
      "255\n",
      "256\n",
      "258\n",
      "259\n",
      "260\n",
      "261\n",
      "262\n",
      "264\n",
      "265\n",
      "266\n",
      "267\n",
      "268\n",
      "270\n",
      "272\n",
      "273\n",
      "274\n",
      "275\n",
      "276\n",
      "278\n",
      "279\n",
      "280\n",
      "282\n",
      "284\n",
      "285\n",
      "286\n",
      "287\n",
      "288\n",
      "289\n",
      "290\n",
      "291\n",
      "292\n",
      "294\n",
      "295\n",
      "296\n",
      "297\n",
      "298\n",
      "299\n",
      "300\n",
      "301\n",
      "302\n",
      "303\n",
      "304\n",
      "305\n",
      "306\n",
      "308\n",
      "309\n",
      "310\n",
      "312\n",
      "314\n",
      "315\n",
      "316\n",
      "318\n",
      "319\n",
      "320\n",
      "321\n",
      "322\n",
      "323\n",
      "324\n",
      "325\n",
      "326\n",
      "327\n",
      "328\n",
      "329\n",
      "330\n",
      "332\n",
      "333\n",
      "334\n",
      "335\n",
      "336\n",
      "338\n",
      "339\n",
      "340\n",
      "341\n",
      "342\n",
      "343\n",
      "344\n",
      "345\n",
      "346\n",
      "348\n",
      "350\n",
      "351\n",
      "352\n",
      "354\n",
      "355\n",
      "356\n",
      "357\n",
      "358\n",
      "360\n",
      "361\n",
      "362\n",
      "363\n",
      "364\n",
      "365\n",
      "366\n",
      "368\n",
      "369\n",
      "370\n",
      "371\n",
      "372\n",
      "374\n",
      "375\n",
      "376\n",
      "377\n",
      "378\n",
      "380\n",
      "381\n",
      "382\n",
      "384\n",
      "385\n",
      "386\n",
      "387\n",
      "388\n",
      "390\n",
      "391\n",
      "392\n",
      "393\n",
      "394\n",
      "395\n",
      "396\n",
      "398\n",
      "399\n",
      "400\n",
      "402\n",
      "403\n",
      "404\n",
      "405\n",
      "406\n",
      "407\n",
      "408\n",
      "410\n",
      "411\n",
      "412\n",
      "413\n",
      "414\n",
      "415\n",
      "416\n",
      "417\n",
      "418\n",
      "420\n",
      "422\n",
      "423\n",
      "424\n",
      "425\n",
      "426\n",
      "427\n",
      "428\n",
      "429\n",
      "430\n",
      "432\n",
      "434\n",
      "435\n",
      "436\n",
      "437\n",
      "438\n",
      "440\n",
      "441\n",
      "442\n",
      "444\n",
      "445\n",
      "446\n",
      "447\n",
      "448\n",
      "450\n",
      "451\n",
      "452\n",
      "453\n",
      "454\n",
      "455\n",
      "456\n",
      "458\n",
      "459\n",
      "460\n",
      "462\n",
      "464\n",
      "465\n",
      "466\n",
      "468\n",
      "469\n",
      "470\n",
      "471\n",
      "472\n",
      "473\n",
      "474\n",
      "475\n",
      "476\n",
      "477\n",
      "478\n",
      "480\n",
      "481\n",
      "482\n",
      "483\n",
      "484\n",
      "485\n",
      "486\n",
      "488\n",
      "489\n",
      "490\n",
      "492\n",
      "493\n",
      "494\n",
      "495\n",
      "496\n",
      "497\n",
      "498\n",
      "500\n",
      "501\n",
      "502\n",
      "504\n",
      "505\n",
      "506\n",
      "507\n",
      "508\n",
      "510\n",
      "511\n",
      "512\n",
      "513\n",
      "514\n",
      "515\n",
      "516\n",
      "517\n",
      "518\n",
      "519\n",
      "520\n",
      "522\n",
      "524\n",
      "525\n",
      "526\n",
      "527\n",
      "528\n",
      "529\n",
      "530\n",
      "531\n",
      "532\n",
      "533\n",
      "534\n",
      "535\n",
      "536\n",
      "537\n",
      "538\n",
      "539\n",
      "540\n",
      "542\n",
      "543\n",
      "544\n",
      "545\n",
      "546\n",
      "548\n",
      "549\n",
      "550\n",
      "551\n",
      "552\n",
      "553\n",
      "554\n",
      "555\n",
      "556\n",
      "558\n",
      "559\n",
      "560\n",
      "561\n",
      "562\n",
      "564\n",
      "565\n",
      "566\n",
      "567\n",
      "568\n",
      "570\n",
      "572\n",
      "573\n",
      "574\n",
      "575\n",
      "576\n",
      "578\n",
      "579\n",
      "580\n",
      "581\n",
      "582\n",
      "583\n",
      "584\n",
      "585\n",
      "586\n",
      "588\n",
      "589\n",
      "590\n",
      "591\n",
      "592\n",
      "594\n",
      "595\n",
      "596\n",
      "597\n",
      "598\n",
      "600\n",
      "602\n",
      "603\n",
      "604\n",
      "605\n",
      "606\n",
      "608\n",
      "609\n",
      "610\n",
      "611\n",
      "612\n",
      "614\n",
      "615\n",
      "616\n",
      "618\n",
      "620\n",
      "621\n",
      "622\n",
      "623\n",
      "624\n",
      "625\n",
      "626\n",
      "627\n",
      "628\n",
      "629\n",
      "630\n",
      "632\n",
      "633\n",
      "634\n",
      "635\n",
      "636\n",
      "637\n",
      "638\n",
      "639\n",
      "640\n",
      "642\n",
      "644\n",
      "645\n",
      "646\n",
      "648\n",
      "649\n",
      "650\n",
      "651\n",
      "652\n",
      "654\n",
      "655\n",
      "656\n",
      "657\n",
      "658\n",
      "660\n",
      "662\n",
      "663\n",
      "664\n",
      "665\n",
      "666\n",
      "667\n",
      "668\n",
      "669\n",
      "670\n",
      "671\n",
      "672\n",
      "674\n",
      "675\n",
      "676\n",
      "678\n",
      "679\n",
      "680\n",
      "681\n",
      "682\n",
      "684\n",
      "685\n",
      "686\n",
      "687\n",
      "688\n",
      "689\n",
      "690\n",
      "692\n",
      "693\n",
      "694\n",
      "695\n",
      "696\n",
      "697\n",
      "698\n",
      "699\n",
      "700\n",
      "702\n",
      "703\n",
      "704\n",
      "705\n",
      "706\n",
      "707\n",
      "708\n",
      "710\n",
      "711\n",
      "712\n",
      "713\n",
      "714\n",
      "715\n",
      "716\n",
      "717\n",
      "718\n",
      "720\n",
      "721\n",
      "722\n",
      "723\n",
      "724\n",
      "725\n",
      "726\n",
      "728\n",
      "729\n",
      "730\n",
      "731\n",
      "732\n",
      "734\n",
      "735\n",
      "736\n",
      "737\n",
      "738\n",
      "740\n",
      "741\n",
      "742\n",
      "744\n",
      "745\n",
      "746\n",
      "747\n",
      "748\n",
      "749\n",
      "750\n",
      "752\n",
      "753\n",
      "754\n",
      "755\n",
      "756\n",
      "758\n",
      "759\n",
      "760\n",
      "762\n",
      "763\n",
      "764\n",
      "765\n",
      "766\n",
      "767\n",
      "768\n",
      "770\n",
      "771\n",
      "772\n",
      "774\n",
      "775\n",
      "776\n",
      "777\n",
      "778\n",
      "779\n",
      "780\n",
      "781\n",
      "782\n",
      "783\n",
      "784\n",
      "785\n",
      "786\n",
      "788\n",
      "789\n",
      "790\n",
      "791\n",
      "792\n",
      "793\n",
      "794\n",
      "795\n",
      "796\n",
      "798\n",
      "799\n",
      "800\n",
      "801\n",
      "802\n",
      "803\n",
      "804\n",
      "805\n",
      "806\n",
      "807\n",
      "808\n",
      "810\n",
      "812\n",
      "813\n",
      "814\n",
      "815\n",
      "816\n",
      "817\n",
      "818\n",
      "819\n",
      "820\n",
      "822\n",
      "824\n",
      "825\n",
      "826\n",
      "828\n",
      "830\n",
      "831\n",
      "832\n",
      "833\n",
      "834\n",
      "835\n",
      "836\n",
      "837\n",
      "838\n",
      "840\n",
      "841\n",
      "842\n",
      "843\n",
      "844\n",
      "845\n",
      "846\n",
      "847\n",
      "848\n",
      "849\n",
      "850\n",
      "851\n",
      "852\n",
      "854\n",
      "855\n",
      "856\n",
      "858\n",
      "860\n",
      "861\n",
      "862\n",
      "864\n",
      "865\n",
      "866\n",
      "867\n",
      "868\n",
      "869\n",
      "870\n",
      "871\n",
      "872\n",
      "873\n",
      "874\n",
      "875\n",
      "876\n",
      "878\n",
      "879\n",
      "880\n",
      "882\n",
      "884\n",
      "885\n",
      "886\n",
      "888\n",
      "889\n",
      "890\n",
      "891\n",
      "892\n",
      "893\n",
      "894\n",
      "895\n",
      "896\n",
      "897\n",
      "898\n",
      "899\n",
      "900\n",
      "901\n",
      "902\n",
      "903\n",
      "904\n",
      "905\n",
      "906\n",
      "908\n",
      "909\n",
      "910\n",
      "912\n",
      "913\n",
      "914\n",
      "915\n",
      "916\n",
      "917\n",
      "918\n",
      "920\n",
      "921\n",
      "922\n",
      "923\n",
      "924\n",
      "925\n",
      "926\n",
      "927\n",
      "928\n",
      "930\n",
      "931\n",
      "932\n",
      "933\n",
      "934\n",
      "935\n",
      "936\n",
      "938\n",
      "939\n",
      "940\n",
      "942\n",
      "943\n",
      "944\n",
      "945\n",
      "946\n",
      "948\n",
      "949\n",
      "950\n",
      "951\n",
      "952\n",
      "954\n",
      "955\n",
      "956\n",
      "957\n",
      "958\n",
      "959\n",
      "960\n",
      "961\n",
      "962\n",
      "963\n",
      "964\n",
      "965\n",
      "966\n",
      "968\n",
      "969\n",
      "970\n",
      "972\n",
      "973\n",
      "974\n",
      "975\n",
      "976\n",
      "978\n",
      "979\n",
      "980\n",
      "981\n",
      "982\n",
      "984\n",
      "985\n",
      "986\n",
      "987\n",
      "988\n",
      "989\n",
      "990\n",
      "992\n",
      "993\n",
      "994\n",
      "995\n",
      "996\n",
      "998\n",
      "999\n",
      "1000\n",
      "1001\n",
      "1002\n",
      "1003\n",
      "1004\n",
      "1005\n",
      "1006\n",
      "1007\n",
      "1008\n",
      "1010\n",
      "1011\n",
      "1012\n",
      "1014\n",
      "1015\n",
      "1016\n",
      "1017\n",
      "1018\n",
      "1020\n",
      "1022\n",
      "1023\n",
      "1024\n",
      "1025\n",
      "1026\n",
      "1027\n",
      "1028\n",
      "1029\n",
      "1030\n",
      "1032\n",
      "1034\n",
      "1035\n",
      "1036\n",
      "1037\n",
      "1038\n",
      "1040\n",
      "1041\n",
      "1042\n",
      "1043\n",
      "1044\n",
      "1045\n",
      "1046\n",
      "1047\n",
      "1048\n",
      "1050\n",
      "1052\n",
      "1053\n",
      "1054\n",
      "1055\n",
      "1056\n",
      "1057\n",
      "1058\n",
      "1059\n",
      "1060\n",
      "1062\n",
      "1064\n",
      "1065\n",
      "1066\n",
      "1067\n",
      "1068\n",
      "1070\n",
      "1071\n",
      "1072\n",
      "1073\n",
      "1074\n",
      "1075\n",
      "1076\n",
      "1077\n",
      "1078\n",
      "1079\n",
      "1080\n",
      "1081\n",
      "1082\n",
      "1083\n",
      "1084\n",
      "1085\n",
      "1086\n",
      "1088\n",
      "1089\n",
      "1090\n",
      "1092\n",
      "1094\n",
      "1095\n",
      "1096\n",
      "1098\n",
      "1099\n",
      "1100\n",
      "1101\n",
      "1102\n",
      "1104\n",
      "1105\n",
      "1106\n",
      "1107\n",
      "1108\n",
      "1110\n",
      "1111\n",
      "1112\n",
      "1113\n",
      "1114\n",
      "1115\n",
      "1116\n",
      "1118\n",
      "1119\n",
      "1120\n",
      "1121\n",
      "1122\n",
      "1124\n",
      "1125\n",
      "1126\n",
      "1127\n",
      "1128\n",
      "1130\n",
      "1131\n",
      "1132\n",
      "1133\n",
      "1134\n",
      "1135\n",
      "1136\n",
      "1137\n",
      "1138\n",
      "1139\n",
      "1140\n",
      "1141\n",
      "1142\n",
      "1143\n",
      "1144\n",
      "1145\n",
      "1146\n",
      "1147\n",
      "1148\n",
      "1149\n",
      "1150\n",
      "1152\n",
      "1154\n",
      "1155\n",
      "1156\n",
      "1157\n",
      "1158\n",
      "1159\n",
      "1160\n",
      "1161\n",
      "1162\n",
      "1164\n",
      "1165\n",
      "1166\n",
      "1167\n",
      "1168\n",
      "1169\n",
      "1170\n",
      "1172\n",
      "1173\n",
      "1174\n",
      "1175\n",
      "1176\n",
      "1177\n",
      "1178\n",
      "1179\n",
      "1180\n",
      "1182\n",
      "1183\n",
      "1184\n",
      "1185\n",
      "1186\n",
      "1188\n",
      "1189\n",
      "1190\n",
      "1191\n",
      "1192\n",
      "1194\n",
      "1195\n",
      "1196\n",
      "1197\n",
      "1198\n",
      "1199\n",
      "1200\n",
      "1202\n",
      "1203\n",
      "1204\n",
      "1205\n",
      "1206\n",
      "1207\n",
      "1208\n",
      "1209\n",
      "1210\n",
      "1211\n",
      "1212\n",
      "1214\n",
      "1215\n",
      "1216\n",
      "1218\n",
      "1219\n",
      "1220\n",
      "1221\n",
      "1222\n",
      "1224\n",
      "1225\n",
      "1226\n",
      "1227\n",
      "1228\n"
     ]
    }
   ],
   "source": [
    "## 45.Python program to display all numbers within a range except the prime numbers.\n",
    "def is_not_prime(n):\n",
    "    flag = False\n",
    "    for i in range(2, int((n**0.5)) + 1):\n",
    "        if n % i == 0:\n",
    "            flag = True\n",
    "    return flag\n",
    "\n",
    "range_starts = int(input(\"enter the start range:\"))\n",
    "\n",
    "range_ends = int(input(\"enter the end range: \"))\n",
    "print(\"Non-prime numbers between\",range_starts,\"and\", range_ends,\"are:\")\n",
    " \n",
    "for number in filter(is_not_prime, range(range_starts, range_ends)):\n",
    "    print(number)  "
   ]
  },
  {
   "cell_type": "code",
   "execution_count": 3,
   "id": "c84a49e5",
   "metadata": {},
   "outputs": [
    {
     "name": "stdout",
     "output_type": "stream",
     "text": [
      "Enter the number: 37\n",
      "0 1 1 2 3 5 8 13 21 34 "
     ]
    }
   ],
   "source": [
    "## 46.Python program to get the Fibonacci series between 0 to 50.\n",
    "num = int(input(\"Enter the number: \"))\n",
    "a, b = 0, 1\n",
    "\n",
    "print(a, end=\" \")\n",
    "print(b, end=\" \")\n",
    "\n",
    "while a + b <= num:\n",
    "    c = a + b\n",
    "    print(c, end=\" \")\n",
    "    a, b = b, c"
   ]
  },
  {
   "cell_type": "code",
   "execution_count": 4,
   "id": "00ede761",
   "metadata": {},
   "outputs": [
    {
     "name": "stdout",
     "output_type": "stream",
     "text": [
      "Enter the number: 21\n",
      "The factorial of 21 is 51090942171709440000\n"
     ]
    }
   ],
   "source": [
    "## 47.Python program to find the factorial of a given number.\n",
    "num= int(input(\"Enter the number: \"))\n",
    "factorial = 1\n",
    "for i in range(1,num+1):\n",
    "    factorial = factorial*i\n",
    "    \n",
    "print(\"The factorial of {} is {}\".format(num,factorial))"
   ]
  },
  {
   "cell_type": "code",
   "execution_count": 5,
   "id": "c751ae0d",
   "metadata": {},
   "outputs": [
    {
     "name": "stdout",
     "output_type": "stream",
     "text": [
      "Enter the string: Saurabh1234\n",
      "The string has 7 letters and 4 digits\n"
     ]
    }
   ],
   "source": [
    "user_input = input(\"Enter the string: \")\n",
    "digits = 0\n",
    "letters =0\n",
    "for i in user_input:\n",
    "    if i.isdigit():\n",
    "        digits = digits+1\n",
    "    elif i.isalpha():\n",
    "        letters = letters+1\n",
    "print(\"The string has {} letters and {} digits\".format(letters,digits))"
   ]
  },
  {
   "cell_type": "code",
   "execution_count": 1,
   "id": "815d9204",
   "metadata": {},
   "outputs": [
    {
     "name": "stdout",
     "output_type": "stream",
     "text": [
      "name\n",
      "age\n",
      "city\n",
      "occupation\n"
     ]
    }
   ],
   "source": [
    "# 49.Given the following dictionary, print all the keys.\n",
    "my_dict = {\"name\": \"Alice\", \"age\": 25, \"city\": \"New York\", \"occupation\": \"Engineer\"}\n",
    "\n",
    "# Print all the keys\n",
    "for key in my_dict.keys():\n",
    "    print(key)"
   ]
  },
  {
   "cell_type": "code",
   "execution_count": 2,
   "id": "aed52c3e",
   "metadata": {},
   "outputs": [
    {
     "name": "stdout",
     "output_type": "stream",
     "text": [
      "Alice\n",
      "25\n",
      "New York\n",
      "Engineer\n"
     ]
    }
   ],
   "source": [
    "# 50.Print all values of dictionary \n",
    "\n",
    "my_dict = {\"name\": \"Alice\", \"age\": 25, \"city\": \"New York\", \"occupation\": \"Engineer\"}\n",
    "\n",
    "# Print all the values\n",
    "for value in my_dict.values():\n",
    "    print(value)"
   ]
  },
  {
   "cell_type": "code",
   "execution_count": 3,
   "id": "fb62eb72",
   "metadata": {},
   "outputs": [
    {
     "name": "stdout",
     "output_type": "stream",
     "text": [
      "Alice\n",
      "25\n",
      "Engineer\n"
     ]
    }
   ],
   "source": [
    "# 51. Print all values except \"New York\"\n",
    "\n",
    "my_dict = {\"name\": \"Alice\", \"age\": 25, \"city\": \"New York\", \"occupation\": \"Engineer\"}\n",
    "\n",
    "# Print all values except the one with the key_to_exclude\n",
    "for value in my_dict.values():\n",
    "    if value!= \"New York\":\n",
    "        print(value)\n"
   ]
  },
  {
   "cell_type": "code",
   "execution_count": 4,
   "id": "3c23e86b",
   "metadata": {},
   "outputs": [
    {
     "name": "stdout",
     "output_type": "stream",
     "text": [
      "{'name': 'Alice', 'city': 'New York', 'occupation': 'Engineer'}\n"
     ]
    }
   ],
   "source": [
    "# 52.  Delete key \"age\" from below dict\n",
    "\n",
    "my_dict = {\"name\": \"Alice\", \"age\": 25, \"city\": \"New York\", \"occupation\": \"Engineer\"}\n",
    "\n",
    "# Delete the \"age\" key from the dictionary\n",
    "if \"age\" in my_dict:\n",
    "    del my_dict[\"age\"]\n",
    "\n",
    "print(my_dict)"
   ]
  },
  {
   "cell_type": "code",
   "execution_count": 5,
   "id": "c2a33cd0",
   "metadata": {},
   "outputs": [
    {
     "name": "stdout",
     "output_type": "stream",
     "text": [
      "Engineer\n"
     ]
    }
   ],
   "source": [
    "# 53.Print value of \"occupation\" from below dictionary.\n",
    "\n",
    "my_dict = {\"name\": \"Alice\", \"age\": 25, \"city\": \"New York\", \"occupation\": \"Engineer\"}\n",
    "\n",
    "# Print the value associated with the key \"occupation\"\n",
    "print(my_dict[\"occupation\"])"
   ]
  },
  {
   "cell_type": "code",
   "execution_count": null,
   "id": "7289884d",
   "metadata": {},
   "outputs": [],
   "source": []
  },
  {
   "cell_type": "code",
   "execution_count": null,
   "id": "7b7c6714",
   "metadata": {},
   "outputs": [],
   "source": []
  }
 ],
 "metadata": {
  "kernelspec": {
   "display_name": "Python 3 (ipykernel)",
   "language": "python",
   "name": "python3"
  },
  "language_info": {
   "codemirror_mode": {
    "name": "ipython",
    "version": 3
   },
   "file_extension": ".py",
   "mimetype": "text/x-python",
   "name": "python",
   "nbconvert_exporter": "python",
   "pygments_lexer": "ipython3",
   "version": "3.9.13"
  }
 },
 "nbformat": 4,
 "nbformat_minor": 5
}
